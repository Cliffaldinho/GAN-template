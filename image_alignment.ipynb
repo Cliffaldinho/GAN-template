{
 "cells": [
  {
   "cell_type": "code",
   "execution_count": null,
   "metadata": {
    "collapsed": true
   },
   "outputs": [],
   "source": [
    "#Align image\n",
    "\n",
    "# Importing the libraries\n",
    "import cv2\n",
    "import numpy as np\n",
    "# Read images\n",
    "im_src = cv2.imread('save_data/x1.jpg')\n",
    "im_dst = cv2.imread('save_data/y1.jpg')\n",
    "\n",
    "im_src_gray = cv2.cvtColor(im_src, cv2.COLOR_BGR2GRAY)\n",
    "im_dst_gray = cv2.cvtColor(im_dst, cv2.COLOR_BGR2GRAY)\n",
    "\n",
    "# Feature Detection\n",
    "\n",
    "# Initialize SIFT\n",
    "sift = cv2.xfeatures2d.SIFT_create()\n",
    "\n",
    "# find the keypoints and descriptors with SIFT\n",
    "kp1, des1 = sift.detectAndCompute(im_src_gray,None)\n",
    "kp2, des2 = sift.detectAndCompute(im_dst_gray,None)\n",
    "\n",
    "# Feature Matching\n",
    "\n",
    "# FLANN parameters\n",
    "FLANN_INDEX_KDTREE = 0\n",
    "index_params = dict(algorithm = FLANN_INDEX_KDTREE, trees = 5)\n",
    "search_params = dict(checks=50)   # or pass empty dictionary\n",
    "\n",
    "flann = cv2.FlannBasedMatcher(index_params,search_params)\n",
    "\n",
    "# obtain matches\n",
    "matches = flann.knnMatch(des1,des2,k=2)\n",
    "\n",
    "# identify good matches\n",
    "good = []\n",
    "for m, n in matches:\n",
    "    if m.distance < 0.7 * n.distance:\n",
    "        good.append(m)\n",
    "\n",
    "# Align Images\n",
    "\n",
    "MIN_MATCH_COUNT = 10\n",
    "if len(good) > MIN_MATCH_COUNT:\n",
    "    src_pts = np.float32([kp1[m.queryIdx].pt for m in good\n",
    "                          ]).reshape(-1, 1, 2)\n",
    "    dst_pts = np.float32([kp2[m.trainIdx].pt for m in good\n",
    "                          ]).reshape(-1, 1, 2)\n",
    "\n",
    "    h, status = cv2.findHomography(src_pts, dst_pts, cv2.RANSAC,5.0)\n",
    "\n",
    "    im_algn = cv2.warpPerspective(im_src, h, (im_dst.shape[1],im_dst.shape[0]))\n",
    "\n",
    "    cv2.imwrite(\"save_data/img_src.jpg\", im_src)\n",
    "    cv2.imwrite(\"save_data/img_dst.jpg\", im_dst)\n",
    "    cv2.imwrite(\"save_data/img_algn.jpg\", im_algn)\n"
   ]
  },
  {
   "cell_type": "code",
   "execution_count": null,
   "outputs": [],
   "source": [
    "# Test Image alignment\n",
    "from PIL import Image\n",
    "\n",
    "import numpy as np\n",
    "\n",
    "input = np.asarray(Image.open('save_data/img_algn.jpg'))\n",
    "target = np.asarray(Image.open('save_data/y1.jpg'))\n",
    "\n",
    "result = 0.5 * input + 0.5 * target\n",
    "result_image = Image.fromarray((result).astype(np.uint8))\n",
    "result_image.save('save_data/result_image_algn.jpg')"
   ],
   "metadata": {
    "collapsed": false,
    "pycharm": {
     "name": "#%%\n"
    }
   }
  }
 ],
 "metadata": {
  "kernelspec": {
   "display_name": "Python 3",
   "language": "python",
   "name": "python3"
  },
  "language_info": {
   "codemirror_mode": {
    "name": "ipython",
    "version": 2
   },
   "file_extension": ".py",
   "mimetype": "text/x-python",
   "name": "python",
   "nbconvert_exporter": "python",
   "pygments_lexer": "ipython2",
   "version": "2.7.6"
  }
 },
 "nbformat": 4,
 "nbformat_minor": 0
}